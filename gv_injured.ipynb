{
 "cells": [
  {
   "cell_type": "code",
   "execution_count": null,
   "metadata": {},
   "outputs": [],
   "source": [
    "##pip install --pre pycaret"
   ]
  },
  {
   "cell_type": "code",
   "execution_count": null,
   "metadata": {},
   "outputs": [],
   "source": [
    "import time\n",
    "import numpy as np\n",
    "import pandas as pd\n",
    "\n",
    "from pycaret.time_series import TSForecastingExperiment"
   ]
  },
  {
   "cell_type": "code",
   "execution_count": null,
   "metadata": {},
   "outputs": [],
   "source": [
    "df = pd.read_csv('gunviolence_data.csv')\n",
    "df.date = pd.to_datetime(df['date'])"
   ]
  },
  {
   "cell_type": "code",
   "execution_count": null,
   "metadata": {},
   "outputs": [],
   "source": [
    "fh = 30\n",
    "fold = 10\n",
    "target = \"n_injured\"\n",
    "fig_kwargs = {'renderer': 'notebook'}"
   ]
  },
  {
   "cell_type": "code",
   "execution_count": null,
   "metadata": {},
   "outputs": [],
   "source": [
    "df = df.drop([\n",
    "    'incident_url', 'source_url', 'incident_url_fields_missing',\n",
    "    'congressional_district', 'gun_stolen', 'gun_type',\n",
    "    'incident_characteristics', 'latitude', 'location_description', 'longitude',\n",
    "    'n_guns_involved', 'notes', 'participant_age', 'participant_age_group',\n",
    "    'participant_gender', 'participant_name', 'participant_relationship',\n",
    "    'participant_status', 'participant_type', 'sources', 'state_house_district',\n",
    "    'state_senate_district'\n",
    "],\n",
    "        axis=1)"
   ]
  },
  {
   "cell_type": "code",
   "execution_count": null,
   "metadata": {},
   "outputs": [],
   "source": [
    "injured = pd.DataFrame()\n",
    "injured['date'] = pd.DataFrame(df.groupby(['date']).date.unique().to_list())\n",
    "injured['n_injured'] = df.groupby(['date']).n_injured.sum().to_list()\n"
   ]
  },
  {
   "cell_type": "code",
   "execution_count": null,
   "metadata": {},
   "outputs": [],
   "source": [
    "injured = injured.set_index('date').asfreq('d')\n",
    "injured = injured.fillna(0)"
   ]
  },
  {
   "cell_type": "code",
   "execution_count": null,
   "metadata": {},
   "outputs": [],
   "source": [
    "ninjured = TSForecastingExperiment()\n",
    "ninjured = ninjured.setup(data=injured, target=target, fh=fh, fold = fold, fig_kwargs=fig_kwargs)"
   ]
  },
  {
   "cell_type": "code",
   "execution_count": null,
   "metadata": {},
   "outputs": [],
   "source": [
    "aarima_injured_model = ninjured.create_model(\"auto_arima\")\n",
    "ninjured.plot_model(estimator=aarima_injured_model)"
   ]
  },
  {
   "cell_type": "code",
   "execution_count": null,
   "metadata": {},
   "outputs": [],
   "source": [
    "##hello "
   ]
  }
 ],
 "metadata": {
  "kernelspec": {
   "display_name": "Python 3",
   "language": "python",
   "name": "python3"
  },
  "language_info": {
   "name": "python",
   "version": "3.8.6 (default, Aug  1 2022, 20:38:50) \n[GCC 9.4.0]"
  },
  "orig_nbformat": 4,
  "vscode": {
   "interpreter": {
    "hash": "3ad933181bd8a04b432d3370b9dc3b0662ad032c4dfaa4e4f1596c548f763858"
   }
  }
 },
 "nbformat": 4,
 "nbformat_minor": 2
}
